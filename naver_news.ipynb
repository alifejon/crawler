{
 "cells": [
  {
   "cell_type": "code",
   "execution_count": null,
   "metadata": {
    "ExecuteTime": {
     "end_time": "2018-06-27T13:36:51.664668Z",
     "start_time": "2018-06-27T13:36:46.684489Z"
    }
   },
   "outputs": [],
   "source": [
    "from selenium import webdriver\n",
    "from selenium.webdriver.common.keys import Keys\n",
    "\n",
    "# https://sites.google.com/a/chromium.org/chromedriver/ 에서 크롬용 selenium 드라이버를 다운받는다.\n",
    "# 아래에 chromedriver 의 절대경로를 넣는다.\n",
    "driver = webdriver.Chrome('chromedriver')\n",
    "driver.implicitly_wait(3)\n",
    "\n",
    "# naver에 접근한다.\n",
    "driver.get('https://www.naver.com/')\n",
    "\n",
    "# 마녀를 검색어로 입력\n",
    "driver.find_element_by_id('query').send_keys('마녀')\n",
    "driver.find_element_by_id(\"query\").send_keys(Keys.ENTER)\n",
    "\n",
    "# 뉴스 탭으로 전환\n",
    "driver.find_element_by_class_name('lnb4').click()"
   ]
  },
  {
   "cell_type": "markdown",
   "metadata": {},
   "source": [
    "## 검색 결과 세분화\n",
    "1. 네이버 검색페이지에서 볼 수 있는 결과는 최대 4,000개이기 때문에 내가 입력한 검색결과가 4,000개보다 많은 경우 검색 조건을 더 세밀하게 주어서 4,000개 이하로 줄여야 한다."
   ]
  },
  {
   "cell_type": "code",
   "execution_count": null,
   "metadata": {
    "ExecuteTime": {
     "end_time": "2018-06-27T13:37:17.844407Z",
     "start_time": "2018-06-27T13:36:59.914967Z"
    },
    "scrolled": true
   },
   "outputs": [],
   "source": [
    "import random \n",
    "from time import sleep\n",
    "import pandas as pd\n",
    "\n",
    "def find_article_links():\n",
    "    result = []\n",
    "    # 서브기사가 네이버 뉴스인 경우\n",
    "    driver.find_elements_by_xpath(\"(//span[@class='txt_sinfo']/a)\")\n",
    "    for elem in driver.find_elements_by_xpath(\"(//span[@class='txt_sinfo']/a)\"):\n",
    "#         print(elem.text, elem.get_attribute('href'))\n",
    "        result.append({\n",
    "            'url': elem.get_attribute('href')\n",
    "        })\n",
    "        \n",
    "    # 메인기사가 네이버 뉴스인 경우\n",
    "    for elem in driver.find_elements_by_xpath(\"(//dd[@class='txt_inline']/a)\"):\n",
    "#         print(elem.text, elem.get_attribute('href'))\n",
    "        result.append({\n",
    "            'url': elem.get_attribute('href')\n",
    "        })\n",
    "\n",
    "\n",
    "    print(len(result))\n",
    "    return pd.DataFrame(result)\n",
    "\n",
    "\n",
    "# 검색페이지 번호를 저장하기 위한 목록\n",
    "traversed = ['1']\n",
    "traversed_size = len(traversed)\n",
    "# 각 검색페이지에서 찾아낸 네이버뉴스 링크를 갖고 있는 목록\n",
    "# list(DataFrame) 형태\n",
    "article_df_list = []\n",
    "\n",
    "# 현재 보고 있는 검색 페이지, 1페이지부터 시작\n",
    "page_idx = '1'\n",
    "\n",
    "\n",
    "while True:\n",
    "    '''\n",
    "    1. 현재 페이지에서 뉴스글 링크를 뽑아냄.\n",
    "    '''\n",
    "    article_df = find_article_links()\n",
    "    article_df_list.append(article_df)\n",
    "    \n",
    "    sleep(1 + random.random() * 6)\n",
    "    '''\n",
    "    2. paging 링크들을 찾아냄.\n",
    "    '''\n",
    "    paging = driver.find_elements_by_xpath(\"(//div[@class='paging']/a)\")\n",
    "    print(len(paging))\n",
    "    \n",
    "    '''\n",
    "    읽지 않은 검색페이지를 클릭\n",
    "    '''\n",
    "    for idx, elem in enumerate(paging):\n",
    "        if elem.text in ['이전페이지', '다음페이지']:\n",
    "            continue\n",
    "        if elem.text in traversed:\n",
    "            continue\n",
    "        traversed.append(elem.text)\n",
    "        print(elem.text, elem.get_attribute('href'))\n",
    "        page_idx = elem.text\n",
    "        paging[idx].click()\n",
    "        break\n",
    "    if traversed_size == len(traversed):\n",
    "        break\n",
    "    traversed_size = len(traversed)\n",
    "    continue"
   ]
  },
  {
   "cell_type": "code",
   "execution_count": null,
   "metadata": {
    "ExecuteTime": {
     "end_time": "2018-06-26T14:51:15.708920Z",
     "start_time": "2018-06-26T14:51:15.677508Z"
    }
   },
   "outputs": [],
   "source": [
    "# 결과를 하나의 csv 파일로 저장\n",
    "pd.concat(article_df_list).reset_index().to_csv('마녀검색.csv')"
   ]
  }
 ],
 "metadata": {
  "kernelspec": {
   "display_name": "Python 3",
   "language": "python",
   "name": "python3"
  },
  "language_info": {
   "codemirror_mode": {
    "name": "ipython",
    "version": 3
   },
   "file_extension": ".py",
   "mimetype": "text/x-python",
   "name": "python",
   "nbconvert_exporter": "python",
   "pygments_lexer": "ipython3",
   "version": "3.6.4"
  }
 },
 "nbformat": 4,
 "nbformat_minor": 2
}
